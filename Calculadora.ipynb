{
 "cells": [
  {
   "cell_type": "code",
   "execution_count": 1,
   "metadata": {},
   "outputs": [
    {
     "name": "stdout",
     "output_type": "stream",
     "text": [
      "3.0 raised at 2.0 power = 9.0\n"
     ]
    }
   ],
   "source": [
    "# Function: Addition\n",
    "def add(x, y):\n",
    "    return x + y\n",
    "\n",
    "# Function: Subtract\n",
    "def subt(x, y):\n",
    "    return x - y\n",
    "\n",
    "# Function: Multiply\n",
    "def mult(x, y):\n",
    "    return x * y\n",
    "\n",
    "# Function: Divide\n",
    "def div(x, y):\n",
    "    if y != 0:\n",
    "        return x / y\n",
    "    else:\n",
    "        return \"Erro! Divisão por zero.\"\n",
    "    \n",
    "# Function: Power\n",
    "def power(x, y):\n",
    "    if y != 0:\n",
    "        return x ** y\n",
    "    else:\n",
    "        return 1\n",
    "\n",
    "# Função principal para a calculadora\n",
    "def calculator():\n",
    "\n",
    "    # Receber a escolha do usuário\n",
    "    choice = input(\"Choose an operation (1 - Addition / 2 - Subtraction / 3 - Multiply / 4 - Divide / 5 - Power): \")\n",
    "\n",
    "    # Receber os números do usuário\n",
    "    num1 = float(input(\"First number: \"))\n",
    "    num2 = float(input(\"second number: \"))\n",
    "\n",
    "    if choice == '1':\n",
    "        print(f\"{num1} + {num2} = {add(num1, num2)}\")\n",
    "    elif choice == '2':\n",
    "        print(f\"{num1} - {num2} = {subt(num1, num2)}\")\n",
    "    elif choice == '3':\n",
    "        print(f\"{num1} * {num2} = {mult(num1, num2)}\")\n",
    "    elif choice == '4':\n",
    "        print(f\"{num1} / {num2} = {div(num1, num2)}\")\n",
    "    elif choice == '5':\n",
    "        print(f\"{num1} raised at {num2} power = {power(num1, num2)}\")\n",
    "    else:\n",
    "        print(\"Invalid Choice.\")\n",
    "\n",
    "# Executar a calculadora\n",
    "calculator()\n"
   ]
  }
 ],
 "metadata": {
  "kernelspec": {
   "display_name": "Python 3",
   "language": "python",
   "name": "python3"
  },
  "language_info": {
   "codemirror_mode": {
    "name": "ipython",
    "version": 3
   },
   "file_extension": ".py",
   "mimetype": "text/x-python",
   "name": "python",
   "nbconvert_exporter": "python",
   "pygments_lexer": "ipython3",
   "version": "3.12.4"
  }
 },
 "nbformat": 4,
 "nbformat_minor": 2
}
